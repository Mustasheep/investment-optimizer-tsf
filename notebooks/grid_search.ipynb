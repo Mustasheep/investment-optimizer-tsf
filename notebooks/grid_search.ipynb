{
 "cells": [
  {
   "cell_type": "markdown",
   "id": "a9140563",
   "metadata": {},
   "source": [
    "----\n",
    "## **Gri Search - SARIMAX**\n",
    "----"
   ]
  },
  {
   "cell_type": "code",
   "execution_count": null,
   "id": "7ce4d818",
   "metadata": {},
   "outputs": [],
   "source": [
    "import pandas as pd\n",
    "import numpy as np\n",
    "import statsmodels.api as sm\n",
    "from itertools import product\n",
    "from sklearn.metrics import mean_squared_error\n"
   ]
  },
  {
   "cell_type": "code",
   "execution_count": null,
   "id": "edc84dce",
   "metadata": {},
   "outputs": [],
   "source": [
    "df = pd.read_csv('dados_processados.csv', index_col='date', parse_dates=True)\n",
    "\n",
    "features = [\n",
    "    'impressions', 'clicks', \n",
    "]\n",
    "\n",
    "y = df['spend']\n",
    "X = df[features] "
   ]
  },
  {
   "cell_type": "code",
   "execution_count": null,
   "id": "ccc13bab",
   "metadata": {},
   "outputs": [],
   "source": [
    "p = d = q = range(0, 4)\n",
    "P = D = Q = range(0, 4)\n",
    "s = [7]  \n",
    "\n",
    "pdq = list(product(p, d, q))\n",
    "seasonal_pdq = [(x[0], x[1], x[2], s[0]) for x in product(P, D, Q)]\n"
   ]
  },
  {
   "cell_type": "code",
   "execution_count": null,
   "id": "33b5c21a",
   "metadata": {},
   "outputs": [],
   "source": [
    "import warnings\n",
    "warnings.filterwarnings(\"ignore\")\n",
    "\n",
    "best_aic = np.inf\n",
    "best_order = None\n",
    "best_seasonal_order = None\n",
    "\n",
    "for param in pdq:\n",
    "    for seasonal_param in seasonal_pdq:\n",
    "        try:\n",
    "            mod = sm.tsa.SARIMAX(\n",
    "                y,\n",
    "                exog=X,\n",
    "                order=param,\n",
    "                seasonal_order=seasonal_param,\n",
    "                enforce_stationarity=False,\n",
    "                enforce_invertibility=False\n",
    "            )\n",
    "            results = mod.fit(disp=False)\n",
    "            \n",
    "            if results.aic < best_aic:\n",
    "                best_aic = results.aic\n",
    "                best_order = param\n",
    "                best_seasonal_order = seasonal_param\n",
    "\n",
    "            print(f'ARIMA{param}x{seasonal_param}7 - AIC:{results.aic:.2f}')\n",
    "        except:\n",
    "            continue\n",
    "\n",
    "print('Melhor combinação:')\n",
    "print('Order:', best_order)\n",
    "print('Seasonal Order:', best_seasonal_order)\n",
    "print('AIC:', best_aic)\n"
   ]
  },
  {
   "cell_type": "markdown",
   "id": "64ea53b3",
   "metadata": {},
   "source": [
    "### Testes com diferentes features\n",
    "\n",
    "```\n",
    "Melhor combinação:\n",
    "Order: (0, 1, 1)\n",
    "Seasonal Order: (0, 0, 1, 7)\n",
    "AIC: 3477.6358896896745\n",
    "```\n",
    "\n",
    "```\n",
    "Melhor combinação:\n",
    "Order: (1, 0, 1)\n",
    "Seasonal Order: (0, 0, 1, 7)\n",
    "AIC: 3537.5273274943747\n",
    "```\n",
    "\n",
    "```\n",
    "🏆 Melhor combinação:\n",
    "Order: (0, 1, 0)\n",
    "Seasonal Order: (1, 1, 3, 7)\n",
    "AIC: 3374.5589498122676\n",
    "```"
   ]
  },
  {
   "cell_type": "code",
   "execution_count": null,
   "id": "6c55f09b",
   "metadata": {},
   "outputs": [],
   "source": [
    "# Modelo final com os melhores parâmetros\n",
    "model = sm.tsa.SARIMAX(\n",
    "    y,\n",
    "    exog=X,\n",
    "    order=best_order,\n",
    "    seasonal_order=best_seasonal_order,\n",
    "    enforce_stationarity=False,\n",
    "    enforce_invertibility=False\n",
    ")\n",
    "\n",
    "results = model.fit()\n",
    "print(results.summary())\n"
   ]
  },
  {
   "cell_type": "markdown",
   "id": "573c3efa",
   "metadata": {},
   "source": [
    "----\n",
    "## **Gri Search - XGBoost**\n",
    "----"
   ]
  },
  {
   "cell_type": "code",
   "execution_count": null,
   "id": "ab3668fb",
   "metadata": {},
   "outputs": [],
   "source": [
    "df = pd.read_csv('dados_processados.csv', index_col='date', parse_dates=True)\n",
    "\n",
    "features = [\n",
    "    'impressions', 'clicks', 'reach', 'cpc', 'ctr',\n",
    "    'dia_semana_cos','dia_semana_sin', 'dia_do_mes', \n",
    "    'mes_cos', 'mes_sin', 'semana_do_ano',\n",
    "    'spend_lag_1', 'spend_lag_7',\n",
    "    'spend_media_movel_7d',\n",
    "    'eh_feriado', \n",
    "]\n",
    "\n",
    "y = df['spend']\n",
    "X = df[features]  "
   ]
  },
  {
   "cell_type": "code",
   "execution_count": null,
   "id": "ded4b259",
   "metadata": {},
   "outputs": [],
   "source": [
    "!pip install xgboost"
   ]
  },
  {
   "cell_type": "code",
   "execution_count": null,
   "id": "78790a5a",
   "metadata": {},
   "outputs": [],
   "source": [
    "\n",
    "split_date = X.index[-14]\n",
    "\n",
    "X_train = X[X.index < split_date]\n",
    "y_train = y[X.index < split_date]\n",
    "\n",
    "X_valid = X[X.index >= split_date]\n",
    "y_valid = y[X.index >= split_date]\n"
   ]
  },
  {
   "cell_type": "code",
   "execution_count": null,
   "id": "d0ff237f",
   "metadata": {},
   "outputs": [],
   "source": [
    "from xgboost import XGBRegressor\n",
    "from sklearn.model_selection import GridSearchCV\n",
    "from sklearn.metrics import mean_squared_error\n",
    "\n",
    "# Modelo base\n",
    "xgb = XGBRegressor(objective='reg:squarederror', random_state=42)\n",
    "\n",
    "# Parâmetros para testar\n",
    "param_grid = {\n",
    "    'n_estimators': [50, 100, 200],\n",
    "    'max_depth': [2, 3, 4],\n",
    "    'learning_rate': [0.01, 0.1, 0.3],\n",
    "    'subsample': [0.7, 1],\n",
    "}\n",
    "\n",
    "from sklearn.model_selection import TimeSeriesSplit\n",
    "\n",
    "tscv = TimeSeriesSplit(n_splits=3)\n",
    "\n",
    "grid_search = GridSearchCV(\n",
    "    estimator=xgb,\n",
    "    param_grid=param_grid,\n",
    "    scoring='neg_root_mean_squared_error',\n",
    "    cv=tscv,\n",
    "    verbose=2\n",
    ")\n",
    "\n",
    "grid_search.fit(X_train, y_train)\n",
    "\n",
    "print(\"Melhores hiperparâmetros:\", grid_search.best_params_)\n",
    "print(\"Melhor RMSE (negativo):\", grid_search.best_score_)\n"
   ]
  },
  {
   "cell_type": "markdown",
   "id": "7454c1da",
   "metadata": {},
   "source": [
    "### Testes com diferentes parâmetros\n",
    "\n",
    "```\n",
    "Melhores hiperparâmetros: {'learning_rate': 0.05, 'max_depth': 2, 'n_estimators': 1000, 'subsample': 0.7}\n",
    "Melhor RMSE (negativo): -60.31514982527961\n",
    "```\n",
    "\n",
    "```\n",
    "Melhores hiperparâmetros: {'learning_rate': 0.1, 'max_depth': 2, 'n_estimators': 200, 'subsample': 0.7}\n",
    "Melhor RMSE (negativo): -63.07732239013345\n",
    "```"
   ]
  },
  {
   "cell_type": "code",
   "execution_count": null,
   "id": "98356a2d",
   "metadata": {},
   "outputs": [],
   "source": [
    "# Melhor modelo treinado\n",
    "best_xgb = grid_search.best_estimator_\n",
    "\n",
    "o\n",
    "y_pred = best_xgb.predict(X_valid)\n",
    "\n",
    "rmse = np.sqrt(mean_squared_error(y_valid, y_pred))\n",
    "print(\"Validação RMSE:\", rmse)\n",
    "\n",
    "# Visualizar\n",
    "import matplotlib.pyplot as plt\n",
    "\n",
    "plt.figure(figsize=(12,6))\n",
    "plt.plot(y_valid.index, y_valid, label='Real')\n",
    "plt.plot(y_valid.index, y_pred, label='Previsto')\n",
    "plt.legend()\n",
    "plt.title('XGBoost - Previsão vs Real')\n",
    "plt.show()\n"
   ]
  }
 ],
 "metadata": {
  "kernelspec": {
   "display_name": "base",
   "language": "python",
   "name": "python3"
  },
  "language_info": {
   "codemirror_mode": {
    "name": "ipython",
    "version": 3
   },
   "file_extension": ".py",
   "mimetype": "text/x-python",
   "name": "python",
   "nbconvert_exporter": "python",
   "pygments_lexer": "ipython3",
   "version": "3.12.7"
  }
 },
 "nbformat": 4,
 "nbformat_minor": 5
}
